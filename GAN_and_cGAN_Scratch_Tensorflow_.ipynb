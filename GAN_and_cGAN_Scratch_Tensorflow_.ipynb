{
  "nbformat": 4,
  "nbformat_minor": 0,
  "metadata": {
    "colab": {
      "name": "GAN and cGAN Scratch - Tensorflow .ipynb",
      "provenance": [],
      "collapsed_sections": [],
      "mount_file_id": "1eWTbH4oPuUtTEsliAAGTtCTOpo8Q4I7I",
      "authorship_tag": "ABX9TyO1cPhwCGeDJyPQtND9VKvh",
      "include_colab_link": true
    },
    "kernelspec": {
      "name": "python3",
      "display_name": "Python 3"
    },
    "language_info": {
      "name": "python"
    },
    "accelerator": "TPU"
  },
  "cells": [
    {
      "cell_type": "markdown",
      "metadata": {
        "id": "view-in-github",
        "colab_type": "text"
      },
      "source": [
        "<a href=\"https://colab.research.google.com/github/kowsiknd/gan-cgan-scratch-tensorflow/blob/main/GAN_and_cGAN_Scratch_Tensorflow_.ipynb\" target=\"_parent\"><img src=\"https://colab.research.google.com/assets/colab-badge.svg\" alt=\"Open In Colab\"/></a>"
      ]
    },
    {
      "cell_type": "markdown",
      "metadata": {
        "id": "rj1Ot7F9iZ-_"
      },
      "source": [
        "\n",
        "# GAN and cGAN Scratch - Tensorflow\n",
        "---\n",
        "\n"
      ]
    },
    {
      "cell_type": "code",
      "metadata": {
        "id": "WUsIFNcCUzgj"
      },
      "source": [
        "import tensorflow as tf\n",
        "import tensorflow.keras as keras\n",
        "import keras.layers as layers\n",
        "import numpy as np\n",
        "\n",
        "import matplotlib.pyplot as plt\n",
        "%matplotlib inline"
      ],
      "execution_count": 9,
      "outputs": []
    },
    {
      "cell_type": "code",
      "metadata": {
        "colab": {
          "base_uri": "https://localhost:8080/",
          "height": 35
        },
        "id": "rOqvEX6aViJS",
        "outputId": "a872657e-43ff-430d-f29b-136ac3f94b89"
      },
      "source": [
        "tf.__version__"
      ],
      "execution_count": 10,
      "outputs": [
        {
          "output_type": "execute_result",
          "data": {
            "application/vnd.google.colaboratory.intrinsic+json": {
              "type": "string"
            },
            "text/plain": [
              "'2.6.0'"
            ]
          },
          "metadata": {},
          "execution_count": 10
        }
      ]
    },
    {
      "cell_type": "code",
      "metadata": {
        "colab": {
          "base_uri": "https://localhost:8080/"
        },
        "id": "yOeMgMppFJ5n",
        "outputId": "ea574f3a-2a2e-4d3c-875c-3d46b8ec95a9"
      },
      "source": [
        "try:\n",
        "  tpu = tf.distribute.cluster_resolver.TPUClusterResolver()  # TPU detection\n",
        "  print('Running on TPU ', tpu.cluster_spec().as_dict()['worker'])\n",
        "except ValueError:\n",
        "  raise BaseException('ERROR: Not connected to a TPU runtime; please see the previous cell in this notebook for instructions!')\n",
        "\n",
        "tf.config.experimental_connect_to_cluster(tpu)\n",
        "tf.tpu.experimental.initialize_tpu_system(tpu)\n",
        "tpu_strategy = tf.distribute.experimental.TPUStrategy(tpu)"
      ],
      "execution_count": 11,
      "outputs": [
        {
          "output_type": "stream",
          "name": "stdout",
          "text": [
            "Running on TPU  ['10.46.112.50:8470']\n",
            "INFO:tensorflow:Clearing out eager caches\n"
          ]
        },
        {
          "output_type": "stream",
          "name": "stderr",
          "text": [
            "INFO:tensorflow:Clearing out eager caches\n"
          ]
        },
        {
          "output_type": "stream",
          "name": "stdout",
          "text": [
            "WARNING:tensorflow:TPU system grpc://10.46.112.50:8470 has already been initialized. Reinitializing the TPU can cause previously created variables on TPU to be lost.\n"
          ]
        },
        {
          "output_type": "stream",
          "name": "stderr",
          "text": [
            "WARNING:tensorflow:TPU system grpc://10.46.112.50:8470 has already been initialized. Reinitializing the TPU can cause previously created variables on TPU to be lost.\n"
          ]
        },
        {
          "output_type": "stream",
          "name": "stdout",
          "text": [
            "INFO:tensorflow:Initializing the TPU system: grpc://10.46.112.50:8470\n"
          ]
        },
        {
          "output_type": "stream",
          "name": "stderr",
          "text": [
            "INFO:tensorflow:Initializing the TPU system: grpc://10.46.112.50:8470\n"
          ]
        },
        {
          "output_type": "stream",
          "name": "stdout",
          "text": [
            "INFO:tensorflow:Finished initializing TPU system.\n"
          ]
        },
        {
          "output_type": "stream",
          "name": "stderr",
          "text": [
            "INFO:tensorflow:Finished initializing TPU system.\n",
            "WARNING:absl:`tf.distribute.experimental.TPUStrategy` is deprecated, please use  the non experimental symbol `tf.distribute.TPUStrategy` instead.\n"
          ]
        },
        {
          "output_type": "stream",
          "name": "stdout",
          "text": [
            "INFO:tensorflow:Found TPU system:\n"
          ]
        },
        {
          "output_type": "stream",
          "name": "stderr",
          "text": [
            "INFO:tensorflow:Found TPU system:\n"
          ]
        },
        {
          "output_type": "stream",
          "name": "stdout",
          "text": [
            "INFO:tensorflow:*** Num TPU Cores: 8\n"
          ]
        },
        {
          "output_type": "stream",
          "name": "stderr",
          "text": [
            "INFO:tensorflow:*** Num TPU Cores: 8\n"
          ]
        },
        {
          "output_type": "stream",
          "name": "stdout",
          "text": [
            "INFO:tensorflow:*** Num TPU Workers: 1\n"
          ]
        },
        {
          "output_type": "stream",
          "name": "stderr",
          "text": [
            "INFO:tensorflow:*** Num TPU Workers: 1\n"
          ]
        },
        {
          "output_type": "stream",
          "name": "stdout",
          "text": [
            "INFO:tensorflow:*** Num TPU Cores Per Worker: 8\n"
          ]
        },
        {
          "output_type": "stream",
          "name": "stderr",
          "text": [
            "INFO:tensorflow:*** Num TPU Cores Per Worker: 8\n"
          ]
        },
        {
          "output_type": "stream",
          "name": "stdout",
          "text": [
            "INFO:tensorflow:*** Available Device: _DeviceAttributes(/job:localhost/replica:0/task:0/device:CPU:0, CPU, 0, 0)\n"
          ]
        },
        {
          "output_type": "stream",
          "name": "stderr",
          "text": [
            "INFO:tensorflow:*** Available Device: _DeviceAttributes(/job:localhost/replica:0/task:0/device:CPU:0, CPU, 0, 0)\n"
          ]
        },
        {
          "output_type": "stream",
          "name": "stdout",
          "text": [
            "INFO:tensorflow:*** Available Device: _DeviceAttributes(/job:worker/replica:0/task:0/device:CPU:0, CPU, 0, 0)\n"
          ]
        },
        {
          "output_type": "stream",
          "name": "stderr",
          "text": [
            "INFO:tensorflow:*** Available Device: _DeviceAttributes(/job:worker/replica:0/task:0/device:CPU:0, CPU, 0, 0)\n"
          ]
        },
        {
          "output_type": "stream",
          "name": "stdout",
          "text": [
            "INFO:tensorflow:*** Available Device: _DeviceAttributes(/job:worker/replica:0/task:0/device:TPU:0, TPU, 0, 0)\n"
          ]
        },
        {
          "output_type": "stream",
          "name": "stderr",
          "text": [
            "INFO:tensorflow:*** Available Device: _DeviceAttributes(/job:worker/replica:0/task:0/device:TPU:0, TPU, 0, 0)\n"
          ]
        },
        {
          "output_type": "stream",
          "name": "stdout",
          "text": [
            "INFO:tensorflow:*** Available Device: _DeviceAttributes(/job:worker/replica:0/task:0/device:TPU:1, TPU, 0, 0)\n"
          ]
        },
        {
          "output_type": "stream",
          "name": "stderr",
          "text": [
            "INFO:tensorflow:*** Available Device: _DeviceAttributes(/job:worker/replica:0/task:0/device:TPU:1, TPU, 0, 0)\n"
          ]
        },
        {
          "output_type": "stream",
          "name": "stdout",
          "text": [
            "INFO:tensorflow:*** Available Device: _DeviceAttributes(/job:worker/replica:0/task:0/device:TPU:2, TPU, 0, 0)\n"
          ]
        },
        {
          "output_type": "stream",
          "name": "stderr",
          "text": [
            "INFO:tensorflow:*** Available Device: _DeviceAttributes(/job:worker/replica:0/task:0/device:TPU:2, TPU, 0, 0)\n"
          ]
        },
        {
          "output_type": "stream",
          "name": "stdout",
          "text": [
            "INFO:tensorflow:*** Available Device: _DeviceAttributes(/job:worker/replica:0/task:0/device:TPU:3, TPU, 0, 0)\n"
          ]
        },
        {
          "output_type": "stream",
          "name": "stderr",
          "text": [
            "INFO:tensorflow:*** Available Device: _DeviceAttributes(/job:worker/replica:0/task:0/device:TPU:3, TPU, 0, 0)\n"
          ]
        },
        {
          "output_type": "stream",
          "name": "stdout",
          "text": [
            "INFO:tensorflow:*** Available Device: _DeviceAttributes(/job:worker/replica:0/task:0/device:TPU:4, TPU, 0, 0)\n"
          ]
        },
        {
          "output_type": "stream",
          "name": "stderr",
          "text": [
            "INFO:tensorflow:*** Available Device: _DeviceAttributes(/job:worker/replica:0/task:0/device:TPU:4, TPU, 0, 0)\n"
          ]
        },
        {
          "output_type": "stream",
          "name": "stdout",
          "text": [
            "INFO:tensorflow:*** Available Device: _DeviceAttributes(/job:worker/replica:0/task:0/device:TPU:5, TPU, 0, 0)\n"
          ]
        },
        {
          "output_type": "stream",
          "name": "stderr",
          "text": [
            "INFO:tensorflow:*** Available Device: _DeviceAttributes(/job:worker/replica:0/task:0/device:TPU:5, TPU, 0, 0)\n"
          ]
        },
        {
          "output_type": "stream",
          "name": "stdout",
          "text": [
            "INFO:tensorflow:*** Available Device: _DeviceAttributes(/job:worker/replica:0/task:0/device:TPU:6, TPU, 0, 0)\n"
          ]
        },
        {
          "output_type": "stream",
          "name": "stderr",
          "text": [
            "INFO:tensorflow:*** Available Device: _DeviceAttributes(/job:worker/replica:0/task:0/device:TPU:6, TPU, 0, 0)\n"
          ]
        },
        {
          "output_type": "stream",
          "name": "stdout",
          "text": [
            "INFO:tensorflow:*** Available Device: _DeviceAttributes(/job:worker/replica:0/task:0/device:TPU:7, TPU, 0, 0)\n"
          ]
        },
        {
          "output_type": "stream",
          "name": "stderr",
          "text": [
            "INFO:tensorflow:*** Available Device: _DeviceAttributes(/job:worker/replica:0/task:0/device:TPU:7, TPU, 0, 0)\n"
          ]
        },
        {
          "output_type": "stream",
          "name": "stdout",
          "text": [
            "INFO:tensorflow:*** Available Device: _DeviceAttributes(/job:worker/replica:0/task:0/device:TPU_SYSTEM:0, TPU_SYSTEM, 0, 0)\n"
          ]
        },
        {
          "output_type": "stream",
          "name": "stderr",
          "text": [
            "INFO:tensorflow:*** Available Device: _DeviceAttributes(/job:worker/replica:0/task:0/device:TPU_SYSTEM:0, TPU_SYSTEM, 0, 0)\n"
          ]
        },
        {
          "output_type": "stream",
          "name": "stdout",
          "text": [
            "INFO:tensorflow:*** Available Device: _DeviceAttributes(/job:worker/replica:0/task:0/device:XLA_CPU:0, XLA_CPU, 0, 0)\n"
          ]
        },
        {
          "output_type": "stream",
          "name": "stderr",
          "text": [
            "INFO:tensorflow:*** Available Device: _DeviceAttributes(/job:worker/replica:0/task:0/device:XLA_CPU:0, XLA_CPU, 0, 0)\n"
          ]
        }
      ]
    },
    {
      "cell_type": "markdown",
      "metadata": {
        "id": "0UJS7aLUi2ct"
      },
      "source": [
        "## Download and Import datasets"
      ]
    },
    {
      "cell_type": "code",
      "metadata": {
        "id": "pVnZqYozVlCT"
      },
      "source": [
        "fashion_dataset = keras.datasets.fashion_mnist\n",
        "(x_train, y_train), (x_test, y_test) = fashion_dataset.load_data()"
      ],
      "execution_count": 12,
      "outputs": []
    },
    {
      "cell_type": "code",
      "metadata": {
        "colab": {
          "base_uri": "https://localhost:8080/"
        },
        "id": "mcNhaJwJWEGl",
        "outputId": "29d303af-d8cf-43c5-da79-80f807b00c11"
      },
      "source": [
        "print(x_train.shape, y_train.shape)\n",
        "print(x_test.shape, y_test.shape)"
      ],
      "execution_count": 13,
      "outputs": [
        {
          "output_type": "stream",
          "name": "stdout",
          "text": [
            "(60000, 28, 28) (60000,)\n",
            "(10000, 28, 28) (10000,)\n"
          ]
        }
      ]
    },
    {
      "cell_type": "code",
      "metadata": {
        "id": "9JMmp7dFWYyR"
      },
      "source": [
        "def plot_image_grid(data, x=10, y=10):\n",
        "  for i in range(x*y):\n",
        "    # define subplot\n",
        "    plt.subplot(x, y, 1 + i)\n",
        "    # turn off axis\n",
        "    plt.axis('off')\n",
        "    # plot raw pixel data\n",
        "    plt.imshow(data[i], cmap='gray_r')\n",
        "  plt.show()"
      ],
      "execution_count": 14,
      "outputs": []
    },
    {
      "cell_type": "code",
      "metadata": {
        "colab": {
          "base_uri": "https://localhost:8080/",
          "height": 248
        },
        "id": "MQSraGbdW2v3",
        "outputId": "34631201-fecd-4da9-e7f4-c146fbe2708a"
      },
      "source": [
        "plot_image_grid(x_train, x=10, y=10)"
      ],
      "execution_count": 15,
      "outputs": [
        {
          "output_type": "display_data",
          "data": {
            "image/png": "[encoded data removed]",
            "text/plain": [
              "<Figure size 432x288 with 100 Axes>"
            ]
          },
          "metadata": {
            "needs_background": "light"
          }
        }
      ]
    },
    {
      "cell_type": "markdown",
      "metadata": {
        "id": "1haReLKaXNX_"
      },
      "source": [
        "# Unconditional GAN"
      ]
    },
    {
      "cell_type": "markdown",
      "metadata": {
        "id": "sXW-cv_Ui72L"
      },
      "source": [
        "## Discriminator Model"
      ]
    },
    {
      "cell_type": "code",
      "metadata": {
        "id": "rIv6EsL_W9KP"
      },
      "source": [
        "def define_discriminator_model(input_shape=(28, 28, 1), learning_rate=0.0002, beta_1=0.5):\n",
        "  model = keras.Sequential([\n",
        "    layers.InputLayer(input_shape=input_shape),   \n",
        "    # Down Sample                    \n",
        "    layers.Conv2D(128, 3, strides=(2, 2), padding=\"same\"),\n",
        "    layers.LeakyReLU(alpha=0.2),\n",
        "    # Down Sample\n",
        "    layers.Conv2D(128, 3, strides=(2, 2), padding=\"same\"),\n",
        "    layers.LeakyReLU(alpha=0.2),\n",
        "    # Classifier\n",
        "    layers.Flatten(),\n",
        "    layers.Dropout(0.4),\n",
        "    layers.Dense(1, activation=\"sigmoid\")\n",
        "  ])\n",
        "\n",
        "  # Compile\n",
        "  model.compile(\n",
        "      optimizer=keras.optimizers.Adam(learning_rate=learning_rate, beta_1=beta_1) ,\n",
        "      loss=keras.losses.binary_crossentropy,\n",
        "      metrics=[\"accuracy\"]\n",
        "  )\n",
        "\n",
        "  return model"
      ],
      "execution_count": 16,
      "outputs": []
    },
    {
      "cell_type": "code",
      "metadata": {
        "colab": {
          "base_uri": "https://localhost:8080/"
        },
        "id": "ukrjf_FCGQF7",
        "outputId": "8f55c1fd-9b63-4f42-f332-f1ace259cc21"
      },
      "source": [
        "test_discriminator_model = define_discriminator_model()\n",
        "test_discriminator_model.summary()"
      ],
      "execution_count": 17,
      "outputs": [
        {
          "output_type": "stream",
          "name": "stdout",
          "text": [
            "Model: \"sequential\"\n",
            "_________________________________________________________________\n",
            "Layer (type)                 Output Shape              Param #   \n",
            "=================================================================\n",
            "conv2d (Conv2D)              (None, 14, 14, 128)       1280      \n",
            "_________________________________________________________________\n",
            "leaky_re_lu (LeakyReLU)      (None, 14, 14, 128)       0         \n",
            "_________________________________________________________________\n",
            "conv2d_1 (Conv2D)            (None, 7, 7, 128)         147584    \n",
            "_________________________________________________________________\n",
            "leaky_re_lu_1 (LeakyReLU)    (None, 7, 7, 128)         0         \n",
            "_________________________________________________________________\n",
            "flatten (Flatten)            (None, 6272)              0         \n",
            "_________________________________________________________________\n",
            "dropout (Dropout)            (None, 6272)              0         \n",
            "_________________________________________________________________\n",
            "dense (Dense)                (None, 1)                 6273      \n",
            "=================================================================\n",
            "Total params: 155,137\n",
            "Trainable params: 155,137\n",
            "Non-trainable params: 0\n",
            "_________________________________________________________________\n"
          ]
        }
      ]
    },
    {
      "cell_type": "markdown",
      "metadata": {
        "id": "xiRJPplljAAn"
      },
      "source": [
        "## Generator Model"
      ]
    },
    {
      "cell_type": "code",
      "metadata": {
        "id": "UTPkDcVgbDXU"
      },
      "source": [
        "def define_generator_model(latent_dim, n_nodes=(128*7*7)):\n",
        "  \"\"\"\n",
        "    n_nodes = foundation for 7x7\n",
        "  \"\"\"\n",
        "  model = keras.Sequential([\n",
        "    # Foundation for image input\n",
        "    layers.Dense(n_nodes, input_dim=latent_dim),\n",
        "    layers.LeakyReLU(alpha=0.2),\n",
        "    layers.Reshape((7, 7, 128)),\n",
        "    # Upsample to 14x14\n",
        "    layers.Conv2DTranspose(128, (4,4), strides=(2, 2), padding=\"same\"),\n",
        "    layers.LeakyReLU(alpha=0.2),\n",
        "    # Upsample to 28x28\n",
        "    layers.Conv2DTranspose(128, (4,4), strides=(2, 2), padding=\"same\"),\n",
        "    layers.LeakyReLU(alpha=0.2),\n",
        "    # generate\n",
        "    layers.Conv2D(1, 7, activation=\"tanh\", padding=\"same\")\n",
        "  ])\n",
        "\n",
        "  return model"
      ],
      "execution_count": 18,
      "outputs": []
    },
    {
      "cell_type": "code",
      "metadata": {
        "colab": {
          "base_uri": "https://localhost:8080/"
        },
        "id": "xpakYs_mGxqE",
        "outputId": "8536417c-a07d-4e59-b281-800f829c8ae3"
      },
      "source": [
        "test_generator_model = define_generator_model(100)\n",
        "test_generator_model.summary()"
      ],
      "execution_count": 19,
      "outputs": [
        {
          "output_type": "stream",
          "name": "stdout",
          "text": [
            "Model: \"sequential_1\"\n",
            "_________________________________________________________________\n",
            "Layer (type)                 Output Shape              Param #   \n",
            "=================================================================\n",
            "dense_1 (Dense)              (None, 6272)              633472    \n",
            "_________________________________________________________________\n",
            "leaky_re_lu_2 (LeakyReLU)    (None, 6272)              0         \n",
            "_________________________________________________________________\n",
            "reshape (Reshape)            (None, 7, 7, 128)         0         \n",
            "_________________________________________________________________\n",
            "conv2d_transpose (Conv2DTran (None, 14, 14, 128)       262272    \n",
            "_________________________________________________________________\n",
            "leaky_re_lu_3 (LeakyReLU)    (None, 14, 14, 128)       0         \n",
            "_________________________________________________________________\n",
            "conv2d_transpose_1 (Conv2DTr (None, 28, 28, 128)       262272    \n",
            "_________________________________________________________________\n",
            "leaky_re_lu_4 (LeakyReLU)    (None, 28, 28, 128)       0         \n",
            "_________________________________________________________________\n",
            "conv2d_2 (Conv2D)            (None, 28, 28, 1)         6273      \n",
            "=================================================================\n",
            "Total params: 1,164,289\n",
            "Trainable params: 1,164,289\n",
            "Non-trainable params: 0\n",
            "_________________________________________________________________\n"
          ]
        }
      ]
    },
    {
      "cell_type": "markdown",
      "metadata": {
        "id": "j_aK_DxajEPf"
      },
      "source": [
        "## GAN Model"
      ]
    },
    {
      "cell_type": "code",
      "metadata": {
        "id": "stCRKnQmdko4"
      },
      "source": [
        "def define_gan_model(generator, discriminator, learning_rate=0.0002, beta_1=0.5):\n",
        "  # No training during generator training\n",
        "  discriminator.trainable = False\n",
        "\n",
        "  # Connection\n",
        "  model = keras.Sequential([\n",
        "    generator,\n",
        "    discriminator\n",
        "  ])\n",
        "\n",
        "  # Compile\n",
        "  model.compile(\n",
        "      loss=keras.losses.binary_crossentropy,\n",
        "      optimizer=keras.optimizers.Adam(learning_rate=learning_rate, beta_1=beta_1),\n",
        "      metrics=[\"accuracy\"]\n",
        "  )\n",
        "\n",
        "  return model"
      ],
      "execution_count": 20,
      "outputs": []
    },
    {
      "cell_type": "code",
      "metadata": {
        "colab": {
          "base_uri": "https://localhost:8080/"
        },
        "id": "6LEXqPv2JRQI",
        "outputId": "3b6ba79d-25a6-407d-9163-fe981e4a3bf9"
      },
      "source": [
        "test_gan_model = define_gan_model(test_generator_model, test_discriminator_model)\n",
        "test_gan_model.summary()"
      ],
      "execution_count": 21,
      "outputs": [
        {
          "output_type": "stream",
          "name": "stdout",
          "text": [
            "Model: \"sequential_2\"\n",
            "_________________________________________________________________\n",
            "Layer (type)                 Output Shape              Param #   \n",
            "=================================================================\n",
            "sequential_1 (Sequential)    (None, 28, 28, 1)         1164289   \n",
            "_________________________________________________________________\n",
            "sequential (Sequential)      (None, 1)                 155137    \n",
            "=================================================================\n",
            "Total params: 1,319,426\n",
            "Trainable params: 1,164,289\n",
            "Non-trainable params: 155,137\n",
            "_________________________________________________________________\n"
          ]
        }
      ]
    },
    {
      "cell_type": "markdown",
      "metadata": {
        "id": "Vo-LWSIejG8s"
      },
      "source": [
        "## Dataset generation"
      ]
    },
    {
      "cell_type": "markdown",
      "metadata": {
        "id": "yEBS8-txjM7G"
      },
      "source": [
        "### Real Samples"
      ]
    },
    {
      "cell_type": "code",
      "metadata": {
        "id": "PNTGrwCrpuNg"
      },
      "source": [
        "def load_real_sample():\n",
        "  (Xtrain, _), (_, _) = fashion_dataset.load_data()\n",
        "  X = np.expand_dims(Xtrain, axis=-1)\n",
        "  X = X.astype('float32')\n",
        "  X = (X-127.5) / 127.5\n",
        "  return X"
      ],
      "execution_count": 22,
      "outputs": []
    },
    {
      "cell_type": "code",
      "metadata": {
        "id": "h4lmoZlZobcj"
      },
      "source": [
        "def generate_real_samples(dataset, n_samples):\n",
        "\t# choose random instances\n",
        "\tix = np.random.randint(0, dataset.shape[0], n_samples)\n",
        "\t# select images\n",
        "\tX = dataset[ix]\n",
        "\t# generate class labels\n",
        "\ty = np.ones((n_samples, 1))\n",
        "\treturn X, y"
      ],
      "execution_count": 23,
      "outputs": []
    },
    {
      "cell_type": "code",
      "metadata": {
        "colab": {
          "base_uri": "https://localhost:8080/",
          "height": 282
        },
        "id": "eYINboNASwOR",
        "outputId": "fc8298bb-c546-4a2a-caa9-da79a799f56a"
      },
      "source": [
        "test_real_gen = generate_real_samples(load_real_sample(), 10)\n",
        "print(test_real_gen[0].shape)\n",
        "# print(test_real_gen[0][0])\n",
        "plt.imshow(test_real_gen[0][0].reshape(28, 28), cmap=\"gray\")\n",
        "plt.show()"
      ],
      "execution_count": 24,
      "outputs": [
        {
          "output_type": "stream",
          "name": "stdout",
          "text": [
            "(10, 28, 28, 1)\n"
          ]
        },
        {
          "output_type": "display_data",
          "data": {
            "image/png": "[encoded data removed]",
            "text/plain": [
              "<Figure size 432x288 with 1 Axes>"
            ]
          },
          "metadata": {
            "needs_background": "light"
          }
        }
      ]
    },
    {
      "cell_type": "markdown",
      "metadata": {
        "id": "EDd2yqtrjTRi"
      },
      "source": [
        "### Latent Samples\n"
      ]
    },
    {
      "cell_type": "code",
      "metadata": {
        "id": "UZea7Aw1puIf"
      },
      "source": [
        "def generate_latent_points(latent_dim, n_samples):\n",
        "\t# generate points in the latent space\n",
        "\tx_input = np.random.randn(latent_dim * n_samples)\n",
        "\t# reshape into a batch of inputs for the network\n",
        "\tx_input = x_input.reshape(n_samples, latent_dim)\n",
        "\treturn x_input"
      ],
      "execution_count": 25,
      "outputs": []
    },
    {
      "cell_type": "markdown",
      "metadata": {
        "id": "e_R4ECEjjY2Y"
      },
      "source": [
        "#### Fake Samples"
      ]
    },
    {
      "cell_type": "code",
      "metadata": {
        "id": "XCRRQK_pqXoT"
      },
      "source": [
        "def generate_fake_samples(generator, latent_dim, n_samples):\n",
        "\t# generate points in latent space\n",
        "\tx_input = generate_latent_points(latent_dim, n_samples)\n",
        "\t# predict outputs\n",
        "\tX = generator.predict(x_input)\n",
        "\t# create class labels\n",
        "\ty = np.zeros((n_samples, 1))\n",
        "\treturn X, y"
      ],
      "execution_count": 26,
      "outputs": []
    },
    {
      "cell_type": "code",
      "metadata": {
        "id": "kx0IFuEBKq1Q",
        "colab": {
          "base_uri": "https://localhost:8080/",
          "height": 282
        },
        "outputId": "8c635acc-7ba8-4710-b1b6-1383922009da"
      },
      "source": [
        "test_fake_gen = generate_fake_samples(test_generator_model, 100, 10)\n",
        "print(test_fake_gen[0].shape)\n",
        "# print(test_fake_gen[0][0])\n",
        "plt.imshow(test_fake_gen[0][0].reshape(28, 28), cmap=\"gray\")\n",
        "plt.show()"
      ],
      "execution_count": 27,
      "outputs": [
        {
          "output_type": "stream",
          "name": "stdout",
          "text": [
            "(10, 28, 28, 1)\n"
          ]
        },
        {
          "output_type": "display_data",
          "data": {
            "image/png": "[encoded data removed]",
            "text/plain": [
              "<Figure size 432x288 with 1 Axes>"
            ]
          },
          "metadata": {
            "needs_background": "light"
          }
        }
      ]
    },
    {
      "cell_type": "markdown",
      "metadata": {
        "id": "VVBgfaxmjms_"
      },
      "source": [
        "## Training Models"
      ]
    },
    {
      "cell_type": "code",
      "metadata": {
        "id": "-7hsVO64SmvW"
      },
      "source": [
        "def train(generator, discriminator, gan, dataset, latent_dim, n_epochs=100, n_batches=128):\n",
        "  batch_per_epoch = int (dataset.shape[0] / n_batches)\n",
        "  half_batch = int (n_batches / 2)\n",
        "  # manual epoch\n",
        "  for i in range(n_epochs):\n",
        "    # enumerate over batches\n",
        "    for j in range(batch_per_epoch):\n",
        "      # Train discriminator over real images\n",
        "      X_real, y_real = generate_real_samples(dataset, half_batch)\n",
        "      d_loss_real, _ = discriminator.train_on_batch(X_real, y_real)\n",
        "\n",
        "      # Train discriminator over fake images\n",
        "      X_fake, y_fake = generate_fake_samples(generator, latent_dim, half_batch)\n",
        "      d_loss_fake, _ = discriminator.train_on_batch(X_fake, y_fake)\n",
        "\n",
        "      # generate latent points and trian gan\n",
        "      X_latent = generate_latent_points(latent_dim, n_batches)\n",
        "      y_latent = np.ones((n_batches, 1))\n",
        "\n",
        "      gan_loss, _ = gan.train_on_batch(X_latent, y_latent)\n",
        "\n",
        "      print('>%d, %d/%d, d1=%.3f, d2=%.3f g=%.3f' %\n",
        "\t\t\t\t(i+1, j+1, batch_per_epoch, d_loss_real, d_loss_fake, gan_loss))\n",
        "  # save the generator model\n",
        "  generator.save('generator.h5')"
      ],
      "execution_count": 28,
      "outputs": []
    },
    {
      "cell_type": "markdown",
      "metadata": {
        "id": "XWYoR-wXjrMM"
      },
      "source": [
        "### Execution"
      ]
    },
    {
      "cell_type": "code",
      "metadata": {
        "id": "plmNjIRlXWub"
      },
      "source": [
        "latent_dim = 100\n",
        "discriminator = define_discriminator_model()\n",
        "generator = define_generator_model(latent_dim)\n",
        "gan = define_gan_model(generator=generator, discriminator=discriminator)\n",
        "\n",
        "dataset = load_real_sample()"
      ],
      "execution_count": 29,
      "outputs": []
    },
    {
      "cell_type": "code",
      "metadata": {
        "id": "CqLXxE8IX2Zq"
      },
      "source": [
        "# train(generator, discriminator, gan, dataset, latent_dim, n_epochs=10)"
      ],
      "execution_count": null,
      "outputs": []
    },
    {
      "cell_type": "code",
      "metadata": {
        "colab": {
          "base_uri": "https://localhost:8080/"
        },
        "id": "UpMEYIpVfrwJ",
        "outputId": "ace08e43-0e0a-42ae-8361-813781bfcc06"
      },
      "source": [
        "generator.save('gan_generator.h5')"
      ],
      "execution_count": 38,
      "outputs": [
        {
          "output_type": "stream",
          "name": "stdout",
          "text": [
            "WARNING:tensorflow:Compiled the loaded model, but the compiled metrics have yet to be built. `model.compile_metrics` will be empty until you train or evaluate the model.\n"
          ]
        },
        {
          "output_type": "stream",
          "name": "stderr",
          "text": [
            "WARNING:tensorflow:Compiled the loaded model, but the compiled metrics have yet to be built. `model.compile_metrics` will be empty until you train or evaluate the model.\n"
          ]
        }
      ]
    },
    {
      "cell_type": "code",
      "metadata": {
        "id": "lK4vlVBiesnQ"
      },
      "source": [
        "discriminator.save('gan_discriminator.h5')\n"
      ],
      "execution_count": 34,
      "outputs": []
    },
    {
      "cell_type": "markdown",
      "metadata": {
        "id": "B5mTrcBij_6E"
      },
      "source": [
        "In this case, the discriminator and generator loss both sit around values of about 0.6 to 0.7 over the course of training"
      ]
    },
    {
      "cell_type": "code",
      "metadata": {
        "colab": {
          "base_uri": "https://localhost:8080/",
          "height": 754
        },
        "id": "63EtUUKflOZ3",
        "outputId": "0c0393ae-61f5-4f1b-f945-b927c828f3cd"
      },
      "source": [
        "# from keras.models import load_model\n",
        "# from numpy.random import randn\n",
        "# from matplotlib import pyplot\n",
        " \n",
        "# # generate points in latent space as input for the generator\n",
        "def generate_latent_points_prediction(latent_dim, n_samples):\n",
        "\t# generate points in the latent space\n",
        "\tx_input = np.random.randn(latent_dim * n_samples)\n",
        "\t# reshape into a batch of inputs for the network\n",
        "\tx_input = x_input.reshape(n_samples, latent_dim)\n",
        "\treturn x_input\n",
        " \n",
        "# # create and save a plot of generated images (reversed grayscale)\n",
        "def show_plot(examples, n):\n",
        "\t# plot images\n",
        "\tfor i in range(n * n):\n",
        "\t\t# define subplot\n",
        "\t\tplt.subplot(n, n, 1 + i)\n",
        "\t\t# turn off axis\n",
        "\t\tplt.axis('off')\n",
        "\t\t# plot raw pixel data\n",
        "\t\tplt.imshow(examples[i, :, :, 0], cmap='gray_r')\n",
        "\tplt.show()\n",
        " \n",
        "# load model\n",
        "model = keras.models.load_model(\"/content/drive/MyDrive/gan_generator.h5\")\n",
        "print(model.summary())\n",
        "# generate images\n",
        "latent_points = generate_latent_points_prediction(100, 100)\n",
        "# generate images\n",
        "X = model.predict(latent_points)\n",
        "print(X.shape)\n",
        "# plot the result\n",
        "show_plot(X, 10)"
      ],
      "execution_count": 39,
      "outputs": [
        {
          "output_type": "stream",
          "name": "stdout",
          "text": [
            "WARNING:tensorflow:No training configuration found in the save file, so the model was *not* compiled. Compile it manually.\n"
          ]
        },
        {
          "output_type": "stream",
          "name": "stderr",
          "text": [
            "WARNING:tensorflow:No training configuration found in the save file, so the model was *not* compiled. Compile it manually.\n"
          ]
        },
        {
          "output_type": "stream",
          "name": "stdout",
          "text": [
            "Model: \"sequential_4\"\n",
            "_________________________________________________________________\n",
            "Layer (type)                 Output Shape              Param #   \n",
            "=================================================================\n",
            "dense_3 (Dense)              (None, 6272)              633472    \n",
            "_________________________________________________________________\n",
            "leaky_re_lu_7 (LeakyReLU)    (None, 6272)              0         \n",
            "_________________________________________________________________\n",
            "reshape_1 (Reshape)          (None, 7, 7, 128)         0         \n",
            "_________________________________________________________________\n",
            "conv2d_transpose_2 (Conv2DTr (None, 14, 14, 128)       262272    \n",
            "_________________________________________________________________\n",
            "leaky_re_lu_8 (LeakyReLU)    (None, 14, 14, 128)       0         \n",
            "_________________________________________________________________\n",
            "conv2d_transpose_3 (Conv2DTr (None, 28, 28, 128)       262272    \n",
            "_________________________________________________________________\n",
            "leaky_re_lu_9 (LeakyReLU)    (None, 28, 28, 128)       0         \n",
            "_________________________________________________________________\n",
            "conv2d_5 (Conv2D)            (None, 28, 28, 1)         6273      \n",
            "=================================================================\n",
            "Total params: 1,164,289\n",
            "Trainable params: 1,164,289\n",
            "Non-trainable params: 0\n",
            "_________________________________________________________________\n",
            "None\n",
            "(100, 28, 28, 1)\n"
          ]
        },
        {
          "output_type": "display_data",
          "data": {
            "image/png": "[encoded data removed]",
            "text/plain": [
              "<Figure size 432x288 with 100 Axes>"
            ]
          },
          "metadata": {
            "needs_background": "light"
          }
        }
      ]
    },
    {
      "cell_type": "markdown",
      "metadata": {
        "id": "TumzXz57iRyB"
      },
      "source": [
        "# Conditional GAN"
      ]
    },
    {
      "cell_type": "code",
      "metadata": {
        "id": "-m5tzObNX7BC"
      },
      "source": [
        "def c_define_discriminator(input_shape=(28, 28, 1), n_classes=10, learning_rate=0.0002, beta_1=0.5):\n",
        "  # Input Label\n",
        "  in_label = layers.Input(shape=(1,))\n",
        "  # Embedding for categorical input\n",
        "  li = layers.Embedding(n_classes, 50)(in_label)\n",
        "  n_nodes = input_shape[0] * input_shape[1]\n",
        "  li = layers.Dense(n_nodes)(li)\n",
        "  li = layers.Reshape((input_shape[0], input_shape[1], 1))(li)\n",
        "\n",
        "  # Input Image\n",
        "  in_image = layers.Input(shape=input_shape)\n",
        "\n",
        "  # Concatenate labels and images\n",
        "  merge = layers.Concatenate()([in_image, li])\n",
        "\n",
        "  # DownSample\n",
        "  x = layers.Conv2D(128, 3, strides=(2, 2), padding=\"same\")(merge)\n",
        "  x = layers.LeakyReLU(alpha=0.2)(x)\n",
        "\n",
        "  x = layers.Conv2D(128, 3, strides=(2, 2), padding=\"same\")(x)\n",
        "  x = layers.LeakyReLU(alpha=0.2)(x)\n",
        "\n",
        "  x = layers.Flatten()(x)\n",
        "  x = layers.Dropout(0.4)(x)\n",
        "  out_layer = layers.Dense(1, activation=\"sigmoid\")(x)\n",
        "\n",
        "  # Define Model\n",
        "  model = keras.Model([in_image, in_label], out_layer)\n",
        "\n",
        "  model.compile(\n",
        "      optimizer=keras.optimizers.Adam(learning_rate=learning_rate, beta_1=beta_1),\n",
        "      loss=keras.losses.binary_crossentropy,\n",
        "      metrics=[\"accuracy\"]\n",
        "  )\n",
        "\n",
        "  return model"
      ],
      "execution_count": 44,
      "outputs": []
    },
    {
      "cell_type": "code",
      "metadata": {
        "colab": {
          "base_uri": "https://localhost:8080/"
        },
        "id": "iKqOWQcWntLh",
        "outputId": "5e995fbc-b847-4eb6-ffb9-88b772e44482"
      },
      "source": [
        "test_c_discriminator_model = c_define_discriminator()\n",
        "print(test_c_discriminator_model.summary())"
      ],
      "execution_count": 45,
      "outputs": [
        {
          "output_type": "stream",
          "name": "stdout",
          "text": [
            "Model: \"model_2\"\n",
            "__________________________________________________________________________________________________\n",
            "Layer (type)                    Output Shape         Param #     Connected to                     \n",
            "==================================================================================================\n",
            "input_19 (InputLayer)           [(None, 1)]          0                                            \n",
            "__________________________________________________________________________________________________\n",
            "embedding_10 (Embedding)        (None, 1, 50)        500         input_19[0][0]                   \n",
            "__________________________________________________________________________________________________\n",
            "dense_13 (Dense)                (None, 1, 784)       39984       embedding_10[0][0]               \n",
            "__________________________________________________________________________________________________\n",
            "input_20 (InputLayer)           [(None, 28, 28, 1)]  0                                            \n",
            "__________________________________________________________________________________________________\n",
            "reshape_11 (Reshape)            (None, 28, 28, 1)    0           dense_13[0][0]                   \n",
            "__________________________________________________________________________________________________\n",
            "concatenate_6 (Concatenate)     (None, 28, 28, 2)    0           input_20[0][0]                   \n",
            "                                                                 reshape_11[0][0]                 \n",
            "__________________________________________________________________________________________________\n",
            "conv2d_10 (Conv2D)              (None, 14, 14, 128)  2432        concatenate_6[0][0]              \n",
            "__________________________________________________________________________________________________\n",
            "leaky_re_lu_13 (LeakyReLU)      (None, 14, 14, 128)  0           conv2d_10[0][0]                  \n",
            "__________________________________________________________________________________________________\n",
            "conv2d_11 (Conv2D)              (None, 7, 7, 128)    147584      leaky_re_lu_13[0][0]             \n",
            "__________________________________________________________________________________________________\n",
            "leaky_re_lu_14 (LeakyReLU)      (None, 7, 7, 128)    0           conv2d_11[0][0]                  \n",
            "__________________________________________________________________________________________________\n",
            "flatten_3 (Flatten)             (None, 6272)         0           leaky_re_lu_14[0][0]             \n",
            "__________________________________________________________________________________________________\n",
            "dropout_3 (Dropout)             (None, 6272)         0           flatten_3[0][0]                  \n",
            "__________________________________________________________________________________________________\n",
            "dense_14 (Dense)                (None, 1)            6273        dropout_3[0][0]                  \n",
            "==================================================================================================\n",
            "Total params: 196,773\n",
            "Trainable params: 196,773\n",
            "Non-trainable params: 0\n",
            "__________________________________________________________________________________________________\n",
            "None\n"
          ]
        }
      ]
    },
    {
      "cell_type": "code",
      "metadata": {
        "id": "HaoPnhiKphVB"
      },
      "source": [
        "def c_define_generator(latent_dim, n_classes=10):\n",
        "  # Input Label\n",
        "  in_label = layers.Input(shape=(1,))\n",
        "  # Embedding for categorical input\n",
        "  li = layers.Embedding(n_classes, 50)(in_label)\n",
        "  n_nodes = 7 * 7\n",
        "  li = layers.Dense(n_nodes)(li)\n",
        "  li = layers.Reshape((7, 7, 1))(li)\n",
        "\n",
        "  # Input generator latent image\n",
        "  in_latent = layers.Input(shape=(latent_dim, ))\n",
        "  n_nodes = 128 * 7 * 7\n",
        "  x = layers.Dense(n_nodes)(in_latent)\n",
        "  x = layers.LeakyReLU(alpha=0.2)(x)\n",
        "  x = layers.Reshape((7, 7, 128))(x)\n",
        "\n",
        "  # Merge layers\n",
        "  merge = layers.Concatenate()([x, li])\n",
        "\n",
        "  # Upsampling\n",
        "  x = layers.Conv2DTranspose(128, 4, strides=(2, 2), padding=\"same\")(merge)\n",
        "  x = layers.LeakyReLU(alpha=0.2)(x)\n",
        "\n",
        "  x = layers.Conv2DTranspose(128, 4, strides=(2, 2), padding=\"same\")(x)\n",
        "  x = layers.LeakyReLU(alpha=0.2)(x)\n",
        "\n",
        "  out_layer = layers.Conv2D(1, 7, activation=\"tanh\", padding=\"same\")(x)\n",
        "\n",
        "  model = keras.Model([in_latent, in_label], out_layer)\n",
        "  return model"
      ],
      "execution_count": 52,
      "outputs": []
    },
    {
      "cell_type": "code",
      "metadata": {
        "colab": {
          "base_uri": "https://localhost:8080/"
        },
        "id": "6rtKHGV7tqik",
        "outputId": "4947e255-dddc-4518-ee09-a0c52ccbbd0c"
      },
      "source": [
        "test_c_generator_model = c_define_generator(100)\n",
        "print(test_c_generator_model.summary())"
      ],
      "execution_count": 53,
      "outputs": [
        {
          "output_type": "stream",
          "name": "stdout",
          "text": [
            "Model: \"model_5\"\n",
            "__________________________________________________________________________________________________\n",
            "Layer (type)                    Output Shape         Param #     Connected to                     \n",
            "==================================================================================================\n",
            "input_28 (InputLayer)           [(None, 100)]        0                                            \n",
            "__________________________________________________________________________________________________\n",
            "input_27 (InputLayer)           [(None, 1)]          0                                            \n",
            "__________________________________________________________________________________________________\n",
            "dense_22 (Dense)                (None, 6272)         633472      input_28[0][0]                   \n",
            "__________________________________________________________________________________________________\n",
            "embedding_14 (Embedding)        (None, 1, 50)        500         input_27[0][0]                   \n",
            "__________________________________________________________________________________________________\n",
            "leaky_re_lu_22 (LeakyReLU)      (None, 6272)         0           dense_22[0][0]                   \n",
            "__________________________________________________________________________________________________\n",
            "dense_21 (Dense)                (None, 1, 49)        2499        embedding_14[0][0]               \n",
            "__________________________________________________________________________________________________\n",
            "reshape_19 (Reshape)            (None, 7, 7, 128)    0           leaky_re_lu_22[0][0]             \n",
            "__________________________________________________________________________________________________\n",
            "reshape_18 (Reshape)            (None, 7, 7, 1)      0           dense_21[0][0]                   \n",
            "__________________________________________________________________________________________________\n",
            "concatenate_9 (Concatenate)     (None, 7, 7, 129)    0           reshape_19[0][0]                 \n",
            "                                                                 reshape_18[0][0]                 \n",
            "__________________________________________________________________________________________________\n",
            "conv2d_transpose_8 (Conv2DTrans (None, 14, 14, 128)  264320      concatenate_9[0][0]              \n",
            "__________________________________________________________________________________________________\n",
            "leaky_re_lu_23 (LeakyReLU)      (None, 14, 14, 128)  0           conv2d_transpose_8[0][0]         \n",
            "__________________________________________________________________________________________________\n",
            "conv2d_transpose_9 (Conv2DTrans (None, 28, 28, 128)  262272      leaky_re_lu_23[0][0]             \n",
            "__________________________________________________________________________________________________\n",
            "leaky_re_lu_24 (LeakyReLU)      (None, 28, 28, 128)  0           conv2d_transpose_9[0][0]         \n",
            "__________________________________________________________________________________________________\n",
            "conv2d_14 (Conv2D)              (None, 28, 28, 1)    6273        leaky_re_lu_24[0][0]             \n",
            "==================================================================================================\n",
            "Total params: 1,169,336\n",
            "Trainable params: 1,169,336\n",
            "Non-trainable params: 0\n",
            "__________________________________________________________________________________________________\n",
            "None\n"
          ]
        }
      ]
    },
    {
      "cell_type": "code",
      "metadata": {
        "id": "zskZK3zatzOh"
      },
      "source": [
        "def c_define_cgan_model(generator, discriminator, learning_rate=0.0002, beta_1=0.5):\n",
        "  discriminator.trainable = False\n",
        "\n",
        "  # get noise and label inputs from generator model\n",
        "  get_noise, get_label = generator.input\n",
        "  get_output = generator.output\n",
        "\n",
        "  # connect image output and label input from generator as inputs to discriminator\n",
        "  gan_output = discriminator([get_output, get_label])\n",
        "\n",
        "  model = keras.Model([get_noise, get_label], gan_output)\n",
        "  model.compile(\n",
        "      optimizer=keras.optimizers.Adam(learning_rate=learning_rate, beta_1=beta_1),\n",
        "      loss=keras.losses.binary_crossentropy,\n",
        "      metrics=[\"accuracy\"]\n",
        "  )\n",
        "\n",
        "  return model\n"
      ],
      "execution_count": 59,
      "outputs": []
    },
    {
      "cell_type": "code",
      "metadata": {
        "colab": {
          "base_uri": "https://localhost:8080/"
        },
        "id": "Is63GJZmv1hI",
        "outputId": "0d21896b-5ce0-4f3c-af88-e5e03a89f667"
      },
      "source": [
        "test_c_gan_model = c_define_cgan_model(test_c_generator_model, test_c_discriminator_model)\n",
        "print(test_c_gan_model.summary())"
      ],
      "execution_count": 60,
      "outputs": [
        {
          "output_type": "stream",
          "name": "stdout",
          "text": [
            "Model: \"model_7\"\n",
            "__________________________________________________________________________________________________\n",
            "Layer (type)                    Output Shape         Param #     Connected to                     \n",
            "==================================================================================================\n",
            "input_28 (InputLayer)           [(None, 100)]        0                                            \n",
            "__________________________________________________________________________________________________\n",
            "input_27 (InputLayer)           [(None, 1)]          0                                            \n",
            "__________________________________________________________________________________________________\n",
            "dense_22 (Dense)                (None, 6272)         633472      input_28[0][0]                   \n",
            "__________________________________________________________________________________________________\n",
            "embedding_14 (Embedding)        (None, 1, 50)        500         input_27[0][0]                   \n",
            "__________________________________________________________________________________________________\n",
            "leaky_re_lu_22 (LeakyReLU)      (None, 6272)         0           dense_22[0][0]                   \n",
            "__________________________________________________________________________________________________\n",
            "dense_21 (Dense)                (None, 1, 49)        2499        embedding_14[0][0]               \n",
            "__________________________________________________________________________________________________\n",
            "reshape_19 (Reshape)            (None, 7, 7, 128)    0           leaky_re_lu_22[0][0]             \n",
            "__________________________________________________________________________________________________\n",
            "reshape_18 (Reshape)            (None, 7, 7, 1)      0           dense_21[0][0]                   \n",
            "__________________________________________________________________________________________________\n",
            "concatenate_9 (Concatenate)     (None, 7, 7, 129)    0           reshape_19[0][0]                 \n",
            "                                                                 reshape_18[0][0]                 \n",
            "__________________________________________________________________________________________________\n",
            "conv2d_transpose_8 (Conv2DTrans (None, 14, 14, 128)  264320      concatenate_9[0][0]              \n",
            "__________________________________________________________________________________________________\n",
            "leaky_re_lu_23 (LeakyReLU)      (None, 14, 14, 128)  0           conv2d_transpose_8[0][0]         \n",
            "__________________________________________________________________________________________________\n",
            "conv2d_transpose_9 (Conv2DTrans (None, 28, 28, 128)  262272      leaky_re_lu_23[0][0]             \n",
            "__________________________________________________________________________________________________\n",
            "leaky_re_lu_24 (LeakyReLU)      (None, 28, 28, 128)  0           conv2d_transpose_9[0][0]         \n",
            "__________________________________________________________________________________________________\n",
            "conv2d_14 (Conv2D)              (None, 28, 28, 1)    6273        leaky_re_lu_24[0][0]             \n",
            "__________________________________________________________________________________________________\n",
            "model_2 (Functional)            (None, 1)            196773      conv2d_14[0][0]                  \n",
            "                                                                 input_27[0][0]                   \n",
            "==================================================================================================\n",
            "Total params: 1,366,109\n",
            "Trainable params: 1,169,336\n",
            "Non-trainable params: 196,773\n",
            "__________________________________________________________________________________________________\n",
            "None\n"
          ]
        }
      ]
    },
    {
      "cell_type": "code",
      "metadata": {
        "id": "O5RClFn1wHRz"
      },
      "source": [
        ""
      ],
      "execution_count": null,
      "outputs": []
    }
  ]
}